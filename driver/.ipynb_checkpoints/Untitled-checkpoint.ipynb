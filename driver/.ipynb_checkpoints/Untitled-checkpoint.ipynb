{
 "cells": [
  {
   "cell_type": "code",
   "execution_count": 5,
   "metadata": {
    "collapsed": true
   },
   "outputs": [],
   "source": [
    "import numpy as np"
   ]
  },
  {
   "cell_type": "code",
   "execution_count": 18,
   "metadata": {
    "collapsed": false
   },
   "outputs": [
    {
     "data": {
      "text/plain": [
       "array([ 1,  3,  5,  7,  0,  2,  4,  6,  9, 11, 13, 15,  8, 10, 12, 14])"
      ]
     },
     "execution_count": 18,
     "metadata": {},
     "output_type": "execute_result"
    }
   ],
   "source": [
    "FB_WIDTH=64\n",
    "FB_HEIGHT=16\n",
    "BURSTLEN=8\n",
    "N_LINES=4\n",
    "N = FB_WIDTH // BURSTLEN\n",
    "M = FB_HEIGHT // (N_LINES * 2)\n",
    "\n",
    "z = np.arange(N*M)\n",
    "\n",
    "for m in range(M):\n",
    "    for n in range(N):\n",
    "        i = m * N + n\n",
    "        if (m % 2 == 0):\n",
    "            z[i] = 2 * i + 1 - m * N\n",
    "        else:\n",
    "            z[i] = 2 * i - (m+1)*N\n",
    "\n",
    "z\n"
   ]
  },
  {
   "cell_type": "code",
   "execution_count": 20,
   "metadata": {
    "collapsed": false
   },
   "outputs": [
    {
     "data": {
      "text/plain": [
       "array([ 1,  3,  5,  7,  0,  2,  4,  6,  9, 11, 13, 15,  8, 10, 12, 14])"
      ]
     },
     "execution_count": 20,
     "metadata": {},
     "output_type": "execute_result"
    }
   ],
   "source": [
    "for m in range(M):\n",
    "    for n in range(N):\n",
    "        i = m * N + n\n",
    "        if (m % 2 == 0):\n",
    "            z[i] = m * N + 2 * n + 1 \n",
    "        else:\n",
    "            z[i] = m * N + 2 * n - 1*N\n",
    "\n",
    "z\n",
    "\n"
   ]
  },
  {
   "cell_type": "code",
   "execution_count": null,
   "metadata": {
    "collapsed": true
   },
   "outputs": [],
   "source": []
  }
 ],
 "metadata": {
  "kernelspec": {
   "display_name": "Python 3",
   "language": "python",
   "name": "python3"
  },
  "language_info": {
   "codemirror_mode": {
    "name": "ipython",
    "version": 3
   },
   "file_extension": ".py",
   "mimetype": "text/x-python",
   "name": "python",
   "nbconvert_exporter": "python",
   "pygments_lexer": "ipython3",
   "version": "3.5.2"
  }
 },
 "nbformat": 4,
 "nbformat_minor": 1
}
